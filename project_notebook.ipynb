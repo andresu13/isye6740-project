{
 "metadata": {
  "language_info": {
   "codemirror_mode": {
    "name": "ipython",
    "version": 3
   },
   "file_extension": ".py",
   "mimetype": "text/x-python",
   "name": "python",
   "nbconvert_exporter": "python",
   "pygments_lexer": "ipython3",
   "version": "3.9.1"
  },
  "orig_nbformat": 2,
  "kernelspec": {
   "name": "python3",
   "display_name": "Python 3.9.1 64-bit",
   "metadata": {
    "interpreter": {
     "hash": "ac59ebe37160ed0dfa835113d9b8498d9f09ceb179beaac4002f036b9467c963"
    }
   }
  }
 },
 "nbformat": 4,
 "nbformat_minor": 2,
 "cells": [
  {
   "cell_type": "code",
   "execution_count": 23,
   "metadata": {},
   "outputs": [],
   "source": [
    "import alpaca_trade_api as tradeapi\n",
    "import numpy as numpy\n",
    "#import pandas as pd\n",
    "import yahoo_fin.stock_info as si"
   ]
  },
  {
   "cell_type": "code",
   "execution_count": 48,
   "metadata": {},
   "outputs": [
    {
     "output_type": "stream",
     "name": "stdout",
     "text": [
      "environ({'ALLUSERSPROFILE': 'C:\\\\ProgramData', 'APPDATA': 'C:\\\\Users\\\\anurruti\\\\AppData\\\\Roaming', 'APPLICATION_INSIGHTS_NO_DIAGNOSTIC_CHANNEL': 'true', 'ASL.LOG': 'Destination=file', 'CHROME_CRASHPAD_PIPE_NAME': '\\\\\\\\.\\\\pipe\\\\crashpad_17244_FQUJTDFPIFXBQAHZ', 'COMMONPROGRAMFILES': 'C:\\\\Program Files\\\\Common Files', 'COMMONPROGRAMFILES(X86)': 'C:\\\\Program Files (x86)\\\\Common Files', 'COMMONPROGRAMW6432': 'C:\\\\Program Files\\\\Common Files', 'COMPUTERNAME': 'DESKTOP-RJ8GNQA', 'COMSPEC': 'C:\\\\WINDOWS\\\\system32\\\\cmd.exe', 'DRIVERDATA': 'C:\\\\Windows\\\\System32\\\\Drivers\\\\DriverData', 'ELECTRON_RUN_AS_NODE': '1', 'HOMEDRIVE': 'C:', 'HOMEPATH': '\\\\Users\\\\anurruti', 'JUPYTER_CONFIG_DATA': 'c:\\\\Users\\\\anurruti\\\\.vscode\\\\extensions\\\\ms-toolsai.vscode-ai-remote-0.1.0\\\\jupyterConfigData.json', 'LOCALAPPDATA': 'C:\\\\Users\\\\anurruti\\\\AppData\\\\Local', 'LOGONSERVER': '\\\\\\\\DESKTOP-RJ8GNQA', 'NUMBER_OF_PROCESSORS': '8', 'ONEDRIVE': 'C:\\\\Users\\\\anurruti\\\\OneDrive - Microsoft', 'ONEDRIVECOMMERCIAL': 'C:\\\\Users\\\\anurruti\\\\OneDrive - Microsoft', 'ONEDRIVECONSUMER': 'C:\\\\Users\\\\anurruti\\\\OneDrive', 'ORIGINAL_XDG_CURRENT_DESKTOP': 'undefined', 'OS': 'Windows_NT', 'PATH': 'C:\\\\Program Files\\\\Python39\\\\Scripts\\\\;C:\\\\Program Files\\\\Python39\\\\;C:\\\\WINDOWS\\\\system32;C:\\\\WINDOWS;C:\\\\WINDOWS\\\\System32\\\\Wbem;C:\\\\WINDOWS\\\\System32\\\\WindowsPowerShell\\\\v1.0\\\\;C:\\\\WINDOWS\\\\System32\\\\OpenSSH\\\\;C:\\\\Program Files\\\\Git\\\\cmd;C:\\\\Program Files\\\\MiKTeX\\\\miktex\\\\bin\\\\x64\\\\;C:\\\\Program Files\\\\Pandoc\\\\;C:\\\\Program Files\\\\Docker\\\\Docker\\\\resources\\\\bin;C:\\\\ProgramData\\\\DockerDesktop\\\\version-bin;C:\\\\Users\\\\anurruti\\\\AppData\\\\Local\\\\Microsoft\\\\WindowsApps;C:\\\\Users\\\\anurruti\\\\AppData\\\\Local\\\\Programs\\\\Microsoft VS Code\\\\bin;C:\\\\Users\\\\anurruti\\\\AppData\\\\Roaming\\\\Python\\\\Python39\\\\Scripts;', 'PATHEXT': '.COM;.EXE;.BAT;.CMD;.VBS;.VBE;.JS;.JSE;.WSF;.WSH;.MSC;.PY;.PYW', 'PROCESSOR_ARCHITECTURE': 'AMD64', 'PROCESSOR_IDENTIFIER': 'Intel64 Family 6 Model 142 Stepping 10, GenuineIntel', 'PROCESSOR_LEVEL': '6', 'PROCESSOR_REVISION': '8e0a', 'PROGRAMDATA': 'C:\\\\ProgramData', 'PROGRAMFILES': 'C:\\\\Program Files', 'PROGRAMFILES(X86)': 'C:\\\\Program Files (x86)', 'PROGRAMW6432': 'C:\\\\Program Files', 'PSMODULEPATH': 'C:\\\\Program Files\\\\WindowsPowerShell\\\\Modules;C:\\\\WINDOWS\\\\system32\\\\WindowsPowerShell\\\\v1.0\\\\Modules;C:\\\\Program Files\\\\Microsoft Azure Recovery Services Agent\\\\bin\\\\Modules\\\\;C:\\\\Program Files (x86)\\\\Microsoft Azure Information Protection\\\\Powershell', 'PUBLIC': 'C:\\\\Users\\\\Public', 'PYTHONIOENCODING': 'utf-8', 'PYTHONPATH': 'c:\\\\Users\\\\anurruti\\\\.vscode\\\\extensions\\\\ms-toolsai.jupyter-2021.3.684299474\\\\pythonFiles;c:\\\\Users\\\\anurruti\\\\.vscode\\\\extensions\\\\ms-toolsai.jupyter-2021.3.684299474\\\\pythonFiles\\\\lib\\\\python', 'PYTHONUNBUFFERED': '1', 'SESSIONNAME': 'Console', 'SYSTEMDRIVE': 'C:', 'SYSTEMROOT': 'C:\\\\WINDOWS', 'TEMP': 'C:\\\\Users\\\\anurruti\\\\AppData\\\\Local\\\\Temp', 'TMP': 'C:\\\\Users\\\\anurruti\\\\AppData\\\\Local\\\\Temp', 'UATDATA': 'C:\\\\windows\\\\CCM\\\\UATData\\\\D9F8C395-CAB8-491d-B8AC-179A1FE1BE77', 'USERDNSDOMAIN': 'northamerica.corp.microsoft.com', 'USERDOMAIN': 'NORTHAMERICA', 'USERDOMAIN_ROAMINGPROFILE': 'NORTHAMERICA', 'USERNAME': 'anurruti', 'USERPROFILE': 'C:\\\\Users\\\\anurruti', 'VSCODE_AMD_ENTRYPOINT': 'vs/workbench/services/extensions/node/extensionHostProcess', 'VSCODE_CWD': 'C:\\\\Users\\\\anurruti\\\\AppData\\\\Local\\\\Programs\\\\Microsoft VS Code', 'VSCODE_HANDLES_UNCAUGHT_ERRORS': 'true', 'VSCODE_IPC_HOOK': '\\\\\\\\.\\\\pipe\\\\b124c482dab264ed4a8c8a7ddc59e911-1.54.3-main-sock', 'VSCODE_IPC_HOOK_EXTHOST': '\\\\\\\\.\\\\pipe\\\\vscode-ipc-f807f04c-25cd-4e92-a48e-50c6e4208ea0-sock', 'VSCODE_LOG_NATIVE': 'false', 'VSCODE_LOG_STACK': 'false', 'VSCODE_NLS_CONFIG': '{\"locale\":\"en-us\",\"availableLanguages\":{},\"_languagePackSupport\":true}', 'VSCODE_NODE_CACHED_DATA_DIR': 'C:\\\\Users\\\\anurruti\\\\AppData\\\\Roaming\\\\Code\\\\CachedData\\\\2b9aebd5354a3629c3aba0a5f5df49f43d6689f8', 'VSCODE_PID': '17244', 'VSCODE_PIPE_LOGGING': 'true', 'VSCODE_VERBOSE_LOGGING': 'true', 'WINDIR': 'C:\\\\WINDOWS', '__COMPAT_LAYER': 'DetectorsAppHealth', 'JPY_INTERRUPT_EVENT': '600', 'IPY_INTERRUPT_EVENT': '600', 'JPY_PARENT_PID': '588', 'TERM': 'xterm-color', 'CLICOLOR': '1', 'PAGER': 'cat', 'GIT_PAGER': 'cat', 'MPLBACKEND': 'module://ipykernel.pylab.backend_inline', 'DEBUSSY': '1', 'ANDRES_TEST': '1', 'POLYGON_KEY_ID': 'Z2pGestGKh7_x_G1r8_PAf_i4oVzp3z2Nm_QGB'})\n"
     ]
    }
   ],
   "source": [
    "# Initialize variables\n",
    "\n",
    "#api = tradeapi.REST(key_id='PKHE6FHRIO5DS3TY47FS',secret_key='/r1wAfhxP2tg4cpoygUxlzoS0UvyJRmQ3nKtkI5J', base_url='https://paper-api.alpaca.markets')\n",
    "api = tradeapi.REST('AKWQS0DX9ISRL37TSREO', 'wKaMSsjuHn44BzD15Wc5gqTRHobexAAuwPex7LLn')\n",
    "os.environ[\"POLYGON_KEY_ID\"] = \"Z2pGestGKh7_x_G1r8_PAf_i4oVzp3z2Nm_QGB\"\n",
    "print(os.environ)"
   ]
  },
  {
   "cell_type": "code",
   "execution_count": 58,
   "metadata": {},
   "outputs": [
    {
     "output_type": "stream",
     "name": "stdout",
     "text": [
      "379.54\nZ2pGestGKh7_x_G1r8_PAf_i4oVzp3z2Nm_QGB\n"
     ]
    },
    {
     "output_type": "execute_result",
     "data": {
      "text/plain": [
       "{'GE': [Financial({   'cashChange': -587000000,\n",
       "      'cashFlow': -2382000000,\n",
       "      'costOfRevenue': 24073000000,\n",
       "      'currentAssets': 116783000000,\n",
       "      'currentCash': 26932000000,\n",
       "      'currentDebt': 15206000000,\n",
       "      'grossProfit': 5501000000,\n",
       "      'netIncome': -22769000000,\n",
       "      'operatingExpense': 4953000000,\n",
       "      'operatingGainsLosses': None,\n",
       "      'operatingIncome': 548000000,\n",
       "      'operatingRevenue': 29574000000,\n",
       "      'reportDate': '2018-09-30T00:00:00.000Z',\n",
       "      'reportDateStr': '2018-09-30',\n",
       "      'researchAndDevelopment': None,\n",
       "      'shareholderEquity': 31454000000,\n",
       "      'symbol': 'GE',\n",
       "      'totalAssets': 311691000000,\n",
       "      'totalCash': 61693000000,\n",
       "      'totalDebt': 114965000000,\n",
       "      'totalLiabilities': None,\n",
       "      'totalRevenue': 29574000000}),\n",
       "  Financial({   'cashChange': -3962000000,\n",
       "      'cashFlow': 557000000,\n",
       "      'costOfRevenue': 23719000000,\n",
       "      'currentAssets': 120444000000,\n",
       "      'currentCash': 27674000000,\n",
       "      'currentDebt': 14418000000,\n",
       "      'grossProfit': 6385000000,\n",
       "      'netIncome': 800000000,\n",
       "      'operatingExpense': 4556000000,\n",
       "      'operatingGainsLosses': None,\n",
       "      'operatingIncome': 1829000000,\n",
       "      'operatingRevenue': 30104000000,\n",
       "      'reportDate': '2018-06-30T00:00:00.000Z',\n",
       "      'reportDateStr': '2018-06-30',\n",
       "      'researchAndDevelopment': None,\n",
       "      'shareholderEquity': 55069000000,\n",
       "      'symbol': 'GE',\n",
       "      'totalAssets': 342769000000,\n",
       "      'totalCash': 64285000000,\n",
       "      'totalDebt': 115572000000,\n",
       "      'totalLiabilities': None,\n",
       "      'totalRevenue': 30104000000}),\n",
       "  Financial({   'cashChange': -12803000000,\n",
       "      'cashFlow': 1390000000,\n",
       "      'costOfRevenue': 22811000000,\n",
       "      'currentAssets': 129356000000,\n",
       "      'currentCash': 32129000000,\n",
       "      'currentDebt': 19734000000,\n",
       "      'grossProfit': 5849000000,\n",
       "      'netIncome': -1147000000,\n",
       "      'operatingExpense': 4325000000,\n",
       "      'operatingGainsLosses': None,\n",
       "      'operatingIncome': 1524000000,\n",
       "      'operatingRevenue': 28660000000,\n",
       "      'reportDate': '2018-03-31T00:00:00.000Z',\n",
       "      'reportDateStr': '2018-03-31',\n",
       "      'researchAndDevelopment': None,\n",
       "      'shareholderEquity': 55965000000,\n",
       "      'symbol': 'GE',\n",
       "      'totalAssets': 358109000000,\n",
       "      'totalCash': 68784000000,\n",
       "      'totalDebt': 125840000000,\n",
       "      'totalLiabilities': None,\n",
       "      'totalRevenue': 28660000000}),\n",
       "  Financial({   'cashChange': 4038000000,\n",
       "      'cashFlow': 7534000000,\n",
       "      'costOfRevenue': 26009000000,\n",
       "      'currentAssets': 144993000000,\n",
       "      'currentCash': 43299000000,\n",
       "      'currentDebt': 24655000000,\n",
       "      'grossProfit': 7819000000,\n",
       "      'netIncome': -8120000000,\n",
       "      'operatingExpense': 6523000000,\n",
       "      'operatingGainsLosses': None,\n",
       "      'operatingIncome': 1296000000,\n",
       "      'operatingRevenue': 33828000000,\n",
       "      'reportDate': '2017-12-31T00:00:00.000Z',\n",
       "      'reportDateStr': '2017-12-31',\n",
       "      'researchAndDevelopment': None,\n",
       "      'shareholderEquity': 64263000000,\n",
       "      'symbol': 'GE',\n",
       "      'totalAssets': 377945000000,\n",
       "      'totalCash': 81995000000,\n",
       "      'totalDebt': 134588000000,\n",
       "      'totalLiabilities': None,\n",
       "      'totalRevenue': 33828000000}),\n",
       "  Financial({   'cashChange': -4594000000,\n",
       "      'cashFlow': 1483000000,\n",
       "      'costOfRevenue': 25326000000,\n",
       "      'currentAssets': 147759000000,\n",
       "      'currentCash': 39854000000,\n",
       "      'currentDebt': 28350000000,\n",
       "      'grossProfit': 6001000000,\n",
       "      'netIncome': 1836000000,\n",
       "      'operatingExpense': 3917000000,\n",
       "      'operatingGainsLosses': None,\n",
       "      'operatingIncome': 2084000000,\n",
       "      'operatingRevenue': 31327000000,\n",
       "      'reportDate': '2017-09-30T00:00:00.000Z',\n",
       "      'reportDateStr': '2017-09-30',\n",
       "      'researchAndDevelopment': None,\n",
       "      'shareholderEquity': 76105000000,\n",
       "      'symbol': 'GE',\n",
       "      'totalAssets': 378038000000,\n",
       "      'totalCash': 78550000000,\n",
       "      'totalDebt': 136393000000,\n",
       "      'totalLiabilities': None,\n",
       "      'totalRevenue': 31327000000}),\n",
       "  Financial({   'cashChange': 1794000000,\n",
       "      'cashFlow': 2185000000,\n",
       "      'costOfRevenue': 21793000000,\n",
       "      'currentAssets': 146612000000,\n",
       "      'currentCash': 44571000000,\n",
       "      'currentDebt': 30044000000,\n",
       "      'grossProfit': 7765000000,\n",
       "      'netIncome': 1367000000,\n",
       "      'operatingExpense': 4287000000,\n",
       "      'operatingGainsLosses': None,\n",
       "      'operatingIncome': 3478000000,\n",
       "      'operatingRevenue': 29261000000,\n",
       "      'reportDate': '2017-06-30T00:00:00.000Z',\n",
       "      'reportDateStr': '2017-06-30',\n",
       "      'researchAndDevelopment': None,\n",
       "      'shareholderEquity': 74149000000,\n",
       "      'symbol': 'GE',\n",
       "      'totalAssets': 355473000000,\n",
       "      'totalCash': 84017000000,\n",
       "      'totalDebt': 134402000000,\n",
       "      'totalLiabilities': 281325000000,\n",
       "      'totalRevenue': 29558000000})]}"
      ]
     },
     "metadata": {},
     "execution_count": 58
    }
   ],
   "source": [
    "account = api.get_account()\n",
    "print(account.buying_power)\n",
    "\n",
    "# Get cash flow\n",
    "#os.environ[\"POLYGON_KEY_ID\"] = \"Z2pGestGKh7_x_G1r8_PAf_i4oVzp3z2Nm_QGB\"\n",
    "print(os.environ.get('pOLYGON_KEY_ID'))\n",
    "#api.polygon.financials(symbol='AAPL')[0].cashFlow\n",
    "#api.polygon.financials(symbol=['AAPL','MSFT','GE','T','VZ','HAL','CLX','ABT'])\n",
    "api.polygon.financials(symbol=['GE'])"
   ]
  },
  {
   "cell_type": "code",
   "execution_count": 36,
   "metadata": {},
   "outputs": [
    {
     "output_type": "stream",
     "name": "stdout",
     "text": [
      "environ({'ALLUSERSPROFILE': 'C:\\\\ProgramData', 'APPDATA': 'C:\\\\Users\\\\anurruti\\\\AppData\\\\Roaming', 'APPLICATION_INSIGHTS_NO_DIAGNOSTIC_CHANNEL': 'true', 'ASL.LOG': 'Destination=file', 'CHROME_CRASHPAD_PIPE_NAME': '\\\\\\\\.\\\\pipe\\\\crashpad_17244_FQUJTDFPIFXBQAHZ', 'COMMONPROGRAMFILES': 'C:\\\\Program Files\\\\Common Files', 'COMMONPROGRAMFILES(X86)': 'C:\\\\Program Files (x86)\\\\Common Files', 'COMMONPROGRAMW6432': 'C:\\\\Program Files\\\\Common Files', 'COMPUTERNAME': 'DESKTOP-RJ8GNQA', 'COMSPEC': 'C:\\\\WINDOWS\\\\system32\\\\cmd.exe', 'DRIVERDATA': 'C:\\\\Windows\\\\System32\\\\Drivers\\\\DriverData', 'ELECTRON_RUN_AS_NODE': '1', 'HOMEDRIVE': 'C:', 'HOMEPATH': '\\\\Users\\\\anurruti', 'JUPYTER_CONFIG_DATA': 'c:\\\\Users\\\\anurruti\\\\.vscode\\\\extensions\\\\ms-toolsai.vscode-ai-remote-0.1.0\\\\jupyterConfigData.json', 'LOCALAPPDATA': 'C:\\\\Users\\\\anurruti\\\\AppData\\\\Local', 'LOGONSERVER': '\\\\\\\\DESKTOP-RJ8GNQA', 'NUMBER_OF_PROCESSORS': '8', 'ONEDRIVE': 'C:\\\\Users\\\\anurruti\\\\OneDrive - Microsoft', 'ONEDRIVECOMMERCIAL': 'C:\\\\Users\\\\anurruti\\\\OneDrive - Microsoft', 'ONEDRIVECONSUMER': 'C:\\\\Users\\\\anurruti\\\\OneDrive', 'ORIGINAL_XDG_CURRENT_DESKTOP': 'undefined', 'OS': 'Windows_NT', 'PATH': 'C:\\\\Program Files\\\\Python39\\\\Scripts\\\\;C:\\\\Program Files\\\\Python39\\\\;C:\\\\WINDOWS\\\\system32;C:\\\\WINDOWS;C:\\\\WINDOWS\\\\System32\\\\Wbem;C:\\\\WINDOWS\\\\System32\\\\WindowsPowerShell\\\\v1.0\\\\;C:\\\\WINDOWS\\\\System32\\\\OpenSSH\\\\;C:\\\\Program Files\\\\Git\\\\cmd;C:\\\\Program Files\\\\MiKTeX\\\\miktex\\\\bin\\\\x64\\\\;C:\\\\Program Files\\\\Pandoc\\\\;C:\\\\Program Files\\\\Docker\\\\Docker\\\\resources\\\\bin;C:\\\\ProgramData\\\\DockerDesktop\\\\version-bin;C:\\\\Users\\\\anurruti\\\\AppData\\\\Local\\\\Microsoft\\\\WindowsApps;C:\\\\Users\\\\anurruti\\\\AppData\\\\Local\\\\Programs\\\\Microsoft VS Code\\\\bin;C:\\\\Users\\\\anurruti\\\\AppData\\\\Roaming\\\\Python\\\\Python39\\\\Scripts;', 'PATHEXT': '.COM;.EXE;.BAT;.CMD;.VBS;.VBE;.JS;.JSE;.WSF;.WSH;.MSC;.PY;.PYW', 'PROCESSOR_ARCHITECTURE': 'AMD64', 'PROCESSOR_IDENTIFIER': 'Intel64 Family 6 Model 142 Stepping 10, GenuineIntel', 'PROCESSOR_LEVEL': '6', 'PROCESSOR_REVISION': '8e0a', 'PROGRAMDATA': 'C:\\\\ProgramData', 'PROGRAMFILES': 'C:\\\\Program Files', 'PROGRAMFILES(X86)': 'C:\\\\Program Files (x86)', 'PROGRAMW6432': 'C:\\\\Program Files', 'PSMODULEPATH': 'C:\\\\Program Files\\\\WindowsPowerShell\\\\Modules;C:\\\\WINDOWS\\\\system32\\\\WindowsPowerShell\\\\v1.0\\\\Modules;C:\\\\Program Files\\\\Microsoft Azure Recovery Services Agent\\\\bin\\\\Modules\\\\;C:\\\\Program Files (x86)\\\\Microsoft Azure Information Protection\\\\Powershell', 'PUBLIC': 'C:\\\\Users\\\\Public', 'PYTHONIOENCODING': 'utf-8', 'PYTHONPATH': 'c:\\\\Users\\\\anurruti\\\\.vscode\\\\extensions\\\\ms-toolsai.jupyter-2021.3.684299474\\\\pythonFiles;c:\\\\Users\\\\anurruti\\\\.vscode\\\\extensions\\\\ms-toolsai.jupyter-2021.3.684299474\\\\pythonFiles\\\\lib\\\\python', 'PYTHONUNBUFFERED': '1', 'SESSIONNAME': 'Console', 'SYSTEMDRIVE': 'C:', 'SYSTEMROOT': 'C:\\\\WINDOWS', 'TEMP': 'C:\\\\Users\\\\anurruti\\\\AppData\\\\Local\\\\Temp', 'TMP': 'C:\\\\Users\\\\anurruti\\\\AppData\\\\Local\\\\Temp', 'UATDATA': 'C:\\\\windows\\\\CCM\\\\UATData\\\\D9F8C395-CAB8-491d-B8AC-179A1FE1BE77', 'USERDNSDOMAIN': 'northamerica.corp.microsoft.com', 'USERDOMAIN': 'NORTHAMERICA', 'USERDOMAIN_ROAMINGPROFILE': 'NORTHAMERICA', 'USERNAME': 'anurruti', 'USERPROFILE': 'C:\\\\Users\\\\anurruti', 'VSCODE_AMD_ENTRYPOINT': 'vs/workbench/services/extensions/node/extensionHostProcess', 'VSCODE_CWD': 'C:\\\\Users\\\\anurruti\\\\AppData\\\\Local\\\\Programs\\\\Microsoft VS Code', 'VSCODE_HANDLES_UNCAUGHT_ERRORS': 'true', 'VSCODE_IPC_HOOK': '\\\\\\\\.\\\\pipe\\\\b124c482dab264ed4a8c8a7ddc59e911-1.54.3-main-sock', 'VSCODE_IPC_HOOK_EXTHOST': '\\\\\\\\.\\\\pipe\\\\vscode-ipc-f807f04c-25cd-4e92-a48e-50c6e4208ea0-sock', 'VSCODE_LOG_NATIVE': 'false', 'VSCODE_LOG_STACK': 'false', 'VSCODE_NLS_CONFIG': '{\"locale\":\"en-us\",\"availableLanguages\":{},\"_languagePackSupport\":true}', 'VSCODE_NODE_CACHED_DATA_DIR': 'C:\\\\Users\\\\anurruti\\\\AppData\\\\Roaming\\\\Code\\\\CachedData\\\\2b9aebd5354a3629c3aba0a5f5df49f43d6689f8', 'VSCODE_PID': '17244', 'VSCODE_PIPE_LOGGING': 'true', 'VSCODE_VERBOSE_LOGGING': 'true', 'WINDIR': 'C:\\\\WINDOWS', '__COMPAT_LAYER': 'DetectorsAppHealth', 'JPY_INTERRUPT_EVENT': '600', 'IPY_INTERRUPT_EVENT': '600', 'JPY_PARENT_PID': '588', 'TERM': 'xterm-color', 'CLICOLOR': '1', 'PAGER': 'cat', 'GIT_PAGER': 'cat', 'MPLBACKEND': 'module://ipykernel.pylab.backend_inline', 'DEBUSSY': '1', 'ANDRES_TEST': '1', 'POLYGON_KEY_ID': 'Z2pGestGKh7_x_G1r8_PAf_i4oVzp3z2Nm_QGB'})\n"
     ]
    }
   ],
   "source": [
    "quote = si.get_quote_table(\"aapl\")\n",
    "#print(quote)\n",
    "print(os.environ)"
   ]
  },
  {
   "cell_type": "code",
   "execution_count": 29,
   "metadata": {},
   "outputs": [
    {
     "output_type": "stream",
     "name": "stdout",
     "text": [
      "                    Unnamed: 0 As of Date: 4/6/2021Current 12/31/2020  \\\n0      Market Cap (intraday) 5                       1.88T      1.68T   \n1           Enterprise Value 3                       1.82T      1.61T   \n2                 Trailing P/E                       37.12      35.87   \n3                Forward P/E 1                       30.86      33.00   \n4  PEG Ratio (5 yr expected) 1                        2.29       2.57   \n5            Price/Sales (ttm)                       12.42      11.59   \n6             Price/Book (mrq)                       14.42      13.60   \n7   Enterprise Value/Revenue 3                       11.85      37.42   \n8    Enterprise Value/EBITDA 6                       24.14      74.38   \n\n  9/30/2020 6/30/2020 3/31/2020  \n0     1.59T     1.54T     1.20T  \n1     1.53T     1.48T     1.14T  \n2     36.52     33.92     27.48  \n3     32.15     32.36     25.32  \n4      2.50      2.48      2.77  \n5     11.30     11.30      9.07  \n6     13.45     13.46     10.87  \n7     41.06     38.83     32.54  \n8     78.80     83.86     68.75  \n0    1.88T\n1    1.82T\n2    37.12\n3    30.86\n4     2.29\n5    12.42\n6    14.42\n7    11.85\n8    24.14\nName: As of Date: 4/6/2021Current, dtype: object\n"
     ]
    }
   ],
   "source": [
    "quote = si.get_stats_valuation(\"msft\")\n",
    "print(quote)\n",
    "print(quote.iloc[:,1])"
   ]
  }
 ]
}