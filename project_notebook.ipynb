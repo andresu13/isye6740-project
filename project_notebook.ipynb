{
 "metadata": {
  "language_info": {
   "codemirror_mode": {
    "name": "ipython",
    "version": 3
   },
   "file_extension": ".py",
   "mimetype": "text/x-python",
   "name": "python",
   "nbconvert_exporter": "python",
   "pygments_lexer": "ipython3",
   "version": "3.9.1"
  },
  "orig_nbformat": 2,
  "kernelspec": {
   "name": "python391jvsc74a57bd0ac59ebe37160ed0dfa835113d9b8498d9f09ceb179beaac4002f036b9467c963",
   "display_name": "Python 3.9.1 64-bit"
  },
  "metadata": {
   "interpreter": {
    "hash": "ac59ebe37160ed0dfa835113d9b8498d9f09ceb179beaac4002f036b9467c963"
   }
  }
 },
 "nbformat": 4,
 "nbformat_minor": 2,
 "cells": [
  {
   "cell_type": "code",
   "execution_count": 1,
   "metadata": {},
   "outputs": [],
   "source": [
    "import alpaca_trade_api as tradeapi\n",
    "#import alpaca_trade_api.polygon as polygon\n",
    "import numpy as np\n",
    "#import pandas as pd\n",
    "#import yahoo_fin.stock_info as si\n",
    "import time\n",
    "import pandas as pd"
   ]
  },
  {
   "cell_type": "code",
   "execution_count": 6,
   "metadata": {},
   "outputs": [
    {
     "output_type": "stream",
     "name": "stdout",
     "text": [
      "environ({'ALLUSERSPROFILE': 'C:\\\\ProgramData', 'APPDATA': 'C:\\\\Users\\\\anurruti\\\\AppData\\\\Roaming', 'APPLICATION_INSIGHTS_NO_DIAGNOSTIC_CHANNEL': 'true', 'ASL.LOG': 'Destination=file', 'CHROME_CRASHPAD_PIPE_NAME': '\\\\\\\\.\\\\pipe\\\\crashpad_10516_KLXAZRRKKRRMSMFE', 'COMMONPROGRAMFILES': 'C:\\\\Program Files\\\\Common Files', 'COMMONPROGRAMFILES(X86)': 'C:\\\\Program Files (x86)\\\\Common Files', 'COMMONPROGRAMW6432': 'C:\\\\Program Files\\\\Common Files', 'COMPUTERNAME': 'DESKTOP-RJ8GNQA', 'COMSPEC': 'C:\\\\WINDOWS\\\\system32\\\\cmd.exe', 'DRIVERDATA': 'C:\\\\Windows\\\\System32\\\\Drivers\\\\DriverData', 'ELECTRON_RUN_AS_NODE': '1', 'FPS_BROWSER_APP_PROFILE_STRING': 'Internet Explorer', 'FPS_BROWSER_USER_PROFILE_STRING': 'Default', 'HOMEDRIVE': 'C:', 'HOMEPATH': '\\\\Users\\\\anurruti', 'JUPYTER_CONFIG_DATA': 'c:\\\\Users\\\\anurruti\\\\.vscode\\\\extensions\\\\ms-toolsai.vscode-ai-remote-0.2.0\\\\jupyterConfigData.json', 'LOCALAPPDATA': 'C:\\\\Users\\\\anurruti\\\\AppData\\\\Local', 'LOGONSERVER': '\\\\\\\\DESKTOP-RJ8GNQA', 'NUMBER_OF_PROCESSORS': '8', 'ONEDRIVE': 'C:\\\\Users\\\\anurruti\\\\OneDrive - Microsoft', 'ONEDRIVECOMMERCIAL': 'C:\\\\Users\\\\anurruti\\\\OneDrive - Microsoft', 'ONEDRIVECONSUMER': 'C:\\\\Users\\\\anurruti\\\\OneDrive', 'ORIGINAL_XDG_CURRENT_DESKTOP': 'undefined', 'OS': 'Windows_NT', 'PATH': 'C:\\\\Program Files\\\\Python39\\\\Scripts\\\\;C:\\\\Program Files\\\\Python39\\\\;C:\\\\WINDOWS\\\\system32;C:\\\\WINDOWS;C:\\\\WINDOWS\\\\System32\\\\Wbem;C:\\\\WINDOWS\\\\System32\\\\WindowsPowerShell\\\\v1.0\\\\;C:\\\\WINDOWS\\\\System32\\\\OpenSSH\\\\;C:\\\\Program Files\\\\Git\\\\cmd;C:\\\\Program Files\\\\MiKTeX\\\\miktex\\\\bin\\\\x64\\\\;C:\\\\Program Files\\\\Pandoc\\\\;C:\\\\Program Files\\\\Docker\\\\Docker\\\\resources\\\\bin;C:\\\\ProgramData\\\\DockerDesktop\\\\version-bin;C:\\\\Users\\\\anurruti\\\\AppData\\\\Local\\\\Microsoft\\\\WindowsApps;C:\\\\Users\\\\anurruti\\\\AppData\\\\Local\\\\Programs\\\\Microsoft VS Code\\\\bin;C:\\\\Users\\\\anurruti\\\\AppData\\\\Roaming\\\\Python\\\\Python39\\\\Scripts;', 'PATHEXT': '.COM;.EXE;.BAT;.CMD;.VBS;.VBE;.JS;.JSE;.WSF;.WSH;.MSC;.PY;.PYW', 'PROCESSOR_ARCHITECTURE': 'AMD64', 'PROCESSOR_IDENTIFIER': 'Intel64 Family 6 Model 142 Stepping 10, GenuineIntel', 'PROCESSOR_LEVEL': '6', 'PROCESSOR_REVISION': '8e0a', 'PROGRAMDATA': 'C:\\\\ProgramData', 'PROGRAMFILES': 'C:\\\\Program Files', 'PROGRAMFILES(X86)': 'C:\\\\Program Files (x86)', 'PROGRAMW6432': 'C:\\\\Program Files', 'PSMODULEPATH': 'C:\\\\Program Files\\\\WindowsPowerShell\\\\Modules;C:\\\\WINDOWS\\\\system32\\\\WindowsPowerShell\\\\v1.0\\\\Modules;C:\\\\Program Files\\\\Microsoft Azure Recovery Services Agent\\\\bin\\\\Modules\\\\;C:\\\\Program Files (x86)\\\\Microsoft Azure Information Protection\\\\Powershell', 'PUBLIC': 'C:\\\\Users\\\\Public', 'PYTHONIOENCODING': 'utf-8', 'PYTHONPATH': 'c:\\\\Users\\\\anurruti\\\\.vscode\\\\extensions\\\\ms-toolsai.jupyter-2021.5.745244803\\\\pythonFiles;c:\\\\Users\\\\anurruti\\\\.vscode\\\\extensions\\\\ms-toolsai.jupyter-2021.5.745244803\\\\pythonFiles\\\\lib\\\\python', 'PYTHONUNBUFFERED': '1', 'SESSIONNAME': 'Console', 'SYSTEMDRIVE': 'C:', 'SYSTEMROOT': 'C:\\\\WINDOWS', 'TEMP': 'C:\\\\Users\\\\anurruti\\\\AppData\\\\Local\\\\Temp', 'TMP': 'C:\\\\Users\\\\anurruti\\\\AppData\\\\Local\\\\Temp', 'UATDATA': 'C:\\\\windows\\\\CCM\\\\UATData\\\\D9F8C395-CAB8-491d-B8AC-179A1FE1BE77', 'USERDNSDOMAIN': 'northamerica.corp.microsoft.com', 'USERDOMAIN': 'NORTHAMERICA', 'USERDOMAIN_ROAMINGPROFILE': 'NORTHAMERICA', 'USERNAME': 'anurruti', 'USERPROFILE': 'C:\\\\Users\\\\anurruti', 'VSCODE_AMD_ENTRYPOINT': 'vs/workbench/services/extensions/node/extensionHostProcess', 'VSCODE_CWD': 'C:\\\\Users\\\\anurruti\\\\AppData\\\\Local\\\\Programs\\\\Microsoft VS Code', 'VSCODE_HANDLES_UNCAUGHT_ERRORS': 'true', 'VSCODE_IPC_HOOK': '\\\\\\\\.\\\\pipe\\\\b124c482dab264ed4a8c8a7ddc59e911-1.55.0-main-sock', 'VSCODE_IPC_HOOK_EXTHOST': '\\\\\\\\.\\\\pipe\\\\vscode-ipc-d9127abe-99bd-4851-9f84-8ecf46ef3179-sock', 'VSCODE_LOG_NATIVE': 'false', 'VSCODE_LOG_STACK': 'false', 'VSCODE_NLS_CONFIG': '{\"locale\":\"en-us\",\"availableLanguages\":{},\"_languagePackSupport\":true}', 'VSCODE_NODE_CACHED_DATA_DIR': 'C:\\\\Users\\\\anurruti\\\\AppData\\\\Roaming\\\\Code\\\\CachedData\\\\c185983a683d14c396952dd432459097bc7f757f', 'VSCODE_PID': '10516', 'VSCODE_PIPE_LOGGING': 'true', 'VSCODE_VERBOSE_LOGGING': 'true', 'WINDIR': 'C:\\\\WINDOWS', '__COMPAT_LAYER': 'DetectorsAppHealth', 'JPY_INTERRUPT_EVENT': '332', 'IPY_INTERRUPT_EVENT': '332', 'JPY_PARENT_PID': '388', 'TERM': 'xterm-color', 'CLICOLOR': '1', 'PAGER': 'cat', 'GIT_PAGER': 'cat', 'MPLBACKEND': 'module://ipykernel.pylab.backend_inline', 'POLYGON_KEY_ID': 'Z2pGestGKh7_x_G1r8_PAf_i4oVzp3z2Nm_QGB'})\n"
     ]
    }
   ],
   "source": [
    "# Initialize variables\n",
    "\n",
    "#api = tradeapi.REST(key_id='PKHE6FHRIO5DS3TY47FS',secret_key='/r1wAfhxP2tg4cpoygUxlzoS0UvyJRmQ3nKtkI5J', base_url='https://paper-api.alpaca.markets')\n",
    "api = tradeapi.REST('AKWQS0DX9ISRL37TSREO', 'wKaMSsjuHn44BzD15Wc5gqTRHobexAAuwPex7LLn')\n",
    "os.environ[\"POLYGON_KEY_ID\"] = \"Z2pGestGKh7_x_G1r8_PAf_i4oVzp3z2Nm_QGB\"\n",
    "print(os.environ)"
   ]
  },
  {
   "cell_type": "code",
   "execution_count": 7,
   "metadata": {},
   "outputs": [
    {
     "output_type": "stream",
     "name": "stdout",
     "text": [
      "Z2pGestGKh7_x_G1r8_PAf_i4oVzp3z2Nm_QGB\n"
     ]
    }
   ],
   "source": [
    "account = api.get_account()\n",
    "#print(account.buying_power)\n",
    "\n",
    "# Get cash flow\n",
    "#os.environ[\"POLYGON_KEY_ID\"] = \"Z2pGestGKh7_x_G1r8_PAf_i4oVzp3z2Nm_QGB\"\n",
    "print(os.environ.get('POLYGON_KEY_ID'))\n",
    "#api.polygon.financials(symbol='AAPL')[0].cashFlow\n",
    "#api.polygon.financials(symbol=['AAPL','MSFT'])\n",
    "rest_response = api.polygon.financials_v2(symbol=\"MSFT\", limit=2, report_type=tradeapi.polygon.rest.FinancialsReportType.Y , sort=tradeapi.polygon.rest.FinancialsSort.CalendarDateDesc)\n",
    "\n",
    "\n",
    "#print(rest_response.assets)\n",
    "#print(type(rest_response))\n",
    "\n",
    "#print(tradeapi.polygon.rest.FinancialsSort.CalendarDateAsc.name)"
   ]
  },
  {
   "cell_type": "code",
   "execution_count": 69,
   "metadata": {},
   "outputs": [
    {
     "output_type": "stream",
     "name": "stdout",
     "text": [
      "cashAndEquivalents : 48844000000\ndebtToEquityRatio : 2.741\nearningsPerBasicShare : 11.97\nfreeCashFlowPerShare : 12.754\ngrossProfit : 98392000000\nmarketCapitalization : 1105306601400\nnetCashFlow : 24311000000\nnetIncome : 55256000000\noperatingExpenses : 34462000000\npriceSales : 4.248\nresearchAndDevelopmentExpense : 16217000000\nrevenues : 260174000000\nsalesPerShare : 56.341\ntotalLiabilities : 248028000000\nprofitMargin : 0.212\n"
     ]
    }
   ],
   "source": [
    "\n",
    "##### CODE TO CALL CLASS ATTRIBUTES WITHOUT HAVING TO HARDCODE THEM #####\n",
    "columns = ['cashAndEquivalents', 'debtToEquityRatio', 'earningsPerBasicShare','freeCashFlowPerShare', 'grossProfit', 'marketCapitalization', 'netCashFlow', 'netIncome', 'operatingExpenses', 'priceSales','researchAndDevelopmentExpense', 'revenues', 'salesPerShare', 'totalLiabilities', 'profitMargin']\n",
    "for attr in columns:\n",
    "    my_attr = getattr(rest_response[0], attr)\n",
    "    print(attr,\":\",my_attr)\n",
    "\n",
    "#########################################################################\n",
    "\n"
   ]
  },
  {
   "cell_type": "code",
   "execution_count": 76,
   "metadata": {},
   "outputs": [
    {
     "output_type": "stream",
     "name": "stdout",
     "text": [
      "2.741\n"
     ]
    }
   ],
   "source": [
    "try:\n",
    "    #x = getattr(rest_response[0], 'BookValuePerShare')\n",
    "    x = getattr(rest_response[0], 'debtToEquityRatio')\n",
    "except:\n",
    "    x = np.nan\n",
    "print(x)"
   ]
  },
  {
   "cell_type": "code",
   "execution_count": 32,
   "metadata": {},
   "outputs": [
    {
     "output_type": "display_data",
     "data": {
      "text/plain": "      BookValuePerShare  cashAndEquivalents  debtToEquityRatio  \\\nAAPL                NaN         48844000000              2.741   \n\n      earningsPerBasicShare  freeCashFlowPerShare  grossProfit  \\\nAAPL                  11.97                12.754  98392000000   \n\n      marketCapitalization  netCashFlow    netIncome  operatingExpenses  \\\nAAPL         1105306601400  24311000000  55256000000        34462000000   \n\n      priceSalesresearchAndDevelopmentExpense      revenues  salesPerShare  \\\nAAPL                                      NaN  260174000000         56.341   \n\n      totalLiabilities  profitMargin  \nAAPL      248028000000         0.212  ",
      "text/html": "<div>\n<style scoped>\n    .dataframe tbody tr th:only-of-type {\n        vertical-align: middle;\n    }\n\n    .dataframe tbody tr th {\n        vertical-align: top;\n    }\n\n    .dataframe thead th {\n        text-align: right;\n    }\n</style>\n<table border=\"1\" class=\"dataframe\">\n  <thead>\n    <tr style=\"text-align: right;\">\n      <th></th>\n      <th>BookValuePerShare</th>\n      <th>cashAndEquivalents</th>\n      <th>debtToEquityRatio</th>\n      <th>earningsPerBasicShare</th>\n      <th>freeCashFlowPerShare</th>\n      <th>grossProfit</th>\n      <th>marketCapitalization</th>\n      <th>netCashFlow</th>\n      <th>netIncome</th>\n      <th>operatingExpenses</th>\n      <th>priceSalesresearchAndDevelopmentExpense</th>\n      <th>revenues</th>\n      <th>salesPerShare</th>\n      <th>totalLiabilities</th>\n      <th>profitMargin</th>\n    </tr>\n  </thead>\n  <tbody>\n    <tr>\n      <th>AAPL</th>\n      <td>NaN</td>\n      <td>48844000000</td>\n      <td>2.741</td>\n      <td>11.97</td>\n      <td>12.754</td>\n      <td>98392000000</td>\n      <td>1105306601400</td>\n      <td>24311000000</td>\n      <td>55256000000</td>\n      <td>34462000000</td>\n      <td>NaN</td>\n      <td>260174000000</td>\n      <td>56.341</td>\n      <td>248028000000</td>\n      <td>0.212</td>\n    </tr>\n  </tbody>\n</table>\n</div>"
     },
     "metadata": {}
    },
    {
     "output_type": "display_data",
     "data": {
      "text/plain": "      BookValuePerShare  cashAndEquivalents  debtToEquityRatio  \\\nAAPL                NaN         25913000000              2.413   \n\n      earningsPerBasicShare  freeCashFlowPerShare   grossProfit  \\\nAAPL                  12.01                 12.94  101839000000   \n\n      marketCapitalization  netCashFlow    netIncome  operatingExpenses  \\\nAAPL          956624782820   5624000000  59531000000        30941000000   \n\n      priceSalesresearchAndDevelopmentExpense      revenues  salesPerShare  \\\nAAPL                                      NaN  265595000000         53.597   \n\n      totalLiabilities  profitMargin  \nAAPL      258578000000         0.224  ",
      "text/html": "<div>\n<style scoped>\n    .dataframe tbody tr th:only-of-type {\n        vertical-align: middle;\n    }\n\n    .dataframe tbody tr th {\n        vertical-align: top;\n    }\n\n    .dataframe thead th {\n        text-align: right;\n    }\n</style>\n<table border=\"1\" class=\"dataframe\">\n  <thead>\n    <tr style=\"text-align: right;\">\n      <th></th>\n      <th>BookValuePerShare</th>\n      <th>cashAndEquivalents</th>\n      <th>debtToEquityRatio</th>\n      <th>earningsPerBasicShare</th>\n      <th>freeCashFlowPerShare</th>\n      <th>grossProfit</th>\n      <th>marketCapitalization</th>\n      <th>netCashFlow</th>\n      <th>netIncome</th>\n      <th>operatingExpenses</th>\n      <th>priceSalesresearchAndDevelopmentExpense</th>\n      <th>revenues</th>\n      <th>salesPerShare</th>\n      <th>totalLiabilities</th>\n      <th>profitMargin</th>\n    </tr>\n  </thead>\n  <tbody>\n    <tr>\n      <th>AAPL</th>\n      <td>NaN</td>\n      <td>25913000000</td>\n      <td>2.413</td>\n      <td>12.01</td>\n      <td>12.94</td>\n      <td>101839000000</td>\n      <td>956624782820</td>\n      <td>5624000000</td>\n      <td>59531000000</td>\n      <td>30941000000</td>\n      <td>NaN</td>\n      <td>265595000000</td>\n      <td>53.597</td>\n      <td>258578000000</td>\n      <td>0.224</td>\n    </tr>\n  </tbody>\n</table>\n</div>"
     },
     "metadata": {}
    },
    {
     "output_type": "display_data",
     "data": {
      "text/plain": "      BookValuePerShare  cashAndEquivalents  debtToEquityRatio  \\\nMSFT                NaN        133819000000                1.8   \n\n      earningsPerBasicShare  freeCashFlowPerShare  grossProfit  \\\nMSFT                   5.11                 4.986  82933000000   \n\n      marketCapitalization  netCashFlow    netIncome  operatingExpenses  \\\nMSFT         1054144621760   -590000000  39240000000        39974000000   \n\n      priceSalesresearchAndDevelopmentExpense      revenues  salesPerShare  \\\nMSFT                                      NaN  125843000000         16.401   \n\n      totalLiabilities  profitMargin  \nMSFT      184226000000         0.312  ",
      "text/html": "<div>\n<style scoped>\n    .dataframe tbody tr th:only-of-type {\n        vertical-align: middle;\n    }\n\n    .dataframe tbody tr th {\n        vertical-align: top;\n    }\n\n    .dataframe thead th {\n        text-align: right;\n    }\n</style>\n<table border=\"1\" class=\"dataframe\">\n  <thead>\n    <tr style=\"text-align: right;\">\n      <th></th>\n      <th>BookValuePerShare</th>\n      <th>cashAndEquivalents</th>\n      <th>debtToEquityRatio</th>\n      <th>earningsPerBasicShare</th>\n      <th>freeCashFlowPerShare</th>\n      <th>grossProfit</th>\n      <th>marketCapitalization</th>\n      <th>netCashFlow</th>\n      <th>netIncome</th>\n      <th>operatingExpenses</th>\n      <th>priceSalesresearchAndDevelopmentExpense</th>\n      <th>revenues</th>\n      <th>salesPerShare</th>\n      <th>totalLiabilities</th>\n      <th>profitMargin</th>\n    </tr>\n  </thead>\n  <tbody>\n    <tr>\n      <th>MSFT</th>\n      <td>NaN</td>\n      <td>133819000000</td>\n      <td>1.8</td>\n      <td>5.11</td>\n      <td>4.986</td>\n      <td>82933000000</td>\n      <td>1054144621760</td>\n      <td>-590000000</td>\n      <td>39240000000</td>\n      <td>39974000000</td>\n      <td>NaN</td>\n      <td>125843000000</td>\n      <td>16.401</td>\n      <td>184226000000</td>\n      <td>0.312</td>\n    </tr>\n  </tbody>\n</table>\n</div>"
     },
     "metadata": {}
    },
    {
     "output_type": "display_data",
     "data": {
      "text/plain": "      BookValuePerShare  cashAndEquivalents  debtToEquityRatio  \\\nMSFT                NaN        133768000000              2.129   \n\n      earningsPerBasicShare  freeCashFlowPerShare  grossProfit  \\\nMSFT                   2.15                 4.189  72007000000   \n\n      marketCapitalization  netCashFlow    netIncome  operatingExpenses  \\\nMSFT          828474198821   4283000000  16571000000        36949000000   \n\n      priceSalesresearchAndDevelopmentExpense      revenues  salesPerShare  \\\nMSFT                                      NaN  110360000000         14.332   \n\n      totalLiabilities  profitMargin  \nMSFT      176130000000          0.15  ",
      "text/html": "<div>\n<style scoped>\n    .dataframe tbody tr th:only-of-type {\n        vertical-align: middle;\n    }\n\n    .dataframe tbody tr th {\n        vertical-align: top;\n    }\n\n    .dataframe thead th {\n        text-align: right;\n    }\n</style>\n<table border=\"1\" class=\"dataframe\">\n  <thead>\n    <tr style=\"text-align: right;\">\n      <th></th>\n      <th>BookValuePerShare</th>\n      <th>cashAndEquivalents</th>\n      <th>debtToEquityRatio</th>\n      <th>earningsPerBasicShare</th>\n      <th>freeCashFlowPerShare</th>\n      <th>grossProfit</th>\n      <th>marketCapitalization</th>\n      <th>netCashFlow</th>\n      <th>netIncome</th>\n      <th>operatingExpenses</th>\n      <th>priceSalesresearchAndDevelopmentExpense</th>\n      <th>revenues</th>\n      <th>salesPerShare</th>\n      <th>totalLiabilities</th>\n      <th>profitMargin</th>\n    </tr>\n  </thead>\n  <tbody>\n    <tr>\n      <th>MSFT</th>\n      <td>NaN</td>\n      <td>133768000000</td>\n      <td>2.129</td>\n      <td>2.15</td>\n      <td>4.189</td>\n      <td>72007000000</td>\n      <td>828474198821</td>\n      <td>4283000000</td>\n      <td>16571000000</td>\n      <td>36949000000</td>\n      <td>NaN</td>\n      <td>110360000000</td>\n      <td>14.332</td>\n      <td>176130000000</td>\n      <td>0.15</td>\n    </tr>\n  </tbody>\n</table>\n</div>"
     },
     "metadata": {}
    }
   ],
   "source": [
    "columns = ['BookValuePerShare', 'cashAndEquivalents', 'debtToEquityRatio', 'earningsPerBasicShare','freeCashFlowPerShare', 'grossProfit', 'marketCapitalization', 'netCashFlow', 'netIncome', 'operatingExpenses', 'priceSales'\t'researchAndDevelopmentExpense', 'revenues', 'salesPerShare', 'totalLiabilities', 'profitMargin']\n",
    "#columns = ['grossProfit','cashAndEquivalents']\n",
    "stock_df = pd.DataFrame([],columns=columns)\n",
    "\n",
    "stocks = ['AAPL', 'MSFT']\n",
    "for stock in stocks:\n",
    "    #print(stock)\n",
    "    rest_response = api.polygon.financials_v2(symbol=stock, limit=2, report_type=tradeapi.polygon.rest.FinancialsReportType.Y , sort=tradeapi.polygon.rest.FinancialsSort.CalendarDateDesc)\n",
    "    y1 = []\n",
    "    y2 = []\n",
    "    for feature in columns:\n",
    "        try:\n",
    "            y1.append(getattr(rest_response[0], feature))\n",
    "        except:\n",
    "            y1.append(np.nan)\n",
    "\n",
    "        \n",
    "        try:\n",
    "            y2.append(getattr(rest_response[1], feature))\n",
    "        except:\n",
    "            y2.append(np.nan)\n",
    "\n",
    "    #print(y1)\n",
    "    y1_df = pd.DataFrame([y1], columns = columns, index = [stock])\n",
    "    y2_df = pd.DataFrame([y2], columns = columns, index = [stock])\n",
    "    display(y1_df)\n",
    "    display(y2_df)\n",
    "\n",
    "    #time.sleep(20)\n",
    "    #print(rest_response[1].grossProfit)\n",
    "#print(year1_df)"
   ]
  },
  {
   "cell_type": "code",
   "execution_count": 27,
   "metadata": {},
   "outputs": [
    {
     "output_type": "display_data",
     "data": {
      "text/plain": "      BookValuePerShare  cashAndEquivalents  debtToEquityRatio  \\\nMSFT                NaN        133819000000                1.8   \n\n      earningsPerBasicShare  freeCashFlowPerShare  grossProfit  \\\nMSFT                   5.11                 4.986  82933000000   \n\n      marketCapitalization  netCashFlow    netIncome  operatingExpenses  \\\nMSFT         1054144621760   -590000000  39240000000        39974000000   \n\n      priceSalesresearchAndDevelopmentExpense      revenues  salesPerShare  \\\nMSFT                                      NaN  125843000000         16.401   \n\n      totalLiabilities  profitMargin  \nMSFT      184226000000         0.312  ",
      "text/html": "<div>\n<style scoped>\n    .dataframe tbody tr th:only-of-type {\n        vertical-align: middle;\n    }\n\n    .dataframe tbody tr th {\n        vertical-align: top;\n    }\n\n    .dataframe thead th {\n        text-align: right;\n    }\n</style>\n<table border=\"1\" class=\"dataframe\">\n  <thead>\n    <tr style=\"text-align: right;\">\n      <th></th>\n      <th>BookValuePerShare</th>\n      <th>cashAndEquivalents</th>\n      <th>debtToEquityRatio</th>\n      <th>earningsPerBasicShare</th>\n      <th>freeCashFlowPerShare</th>\n      <th>grossProfit</th>\n      <th>marketCapitalization</th>\n      <th>netCashFlow</th>\n      <th>netIncome</th>\n      <th>operatingExpenses</th>\n      <th>priceSalesresearchAndDevelopmentExpense</th>\n      <th>revenues</th>\n      <th>salesPerShare</th>\n      <th>totalLiabilities</th>\n      <th>profitMargin</th>\n    </tr>\n  </thead>\n  <tbody>\n    <tr>\n      <th>MSFT</th>\n      <td>NaN</td>\n      <td>133819000000</td>\n      <td>1.8</td>\n      <td>5.11</td>\n      <td>4.986</td>\n      <td>82933000000</td>\n      <td>1054144621760</td>\n      <td>-590000000</td>\n      <td>39240000000</td>\n      <td>39974000000</td>\n      <td>NaN</td>\n      <td>125843000000</td>\n      <td>16.401</td>\n      <td>184226000000</td>\n      <td>0.312</td>\n    </tr>\n  </tbody>\n</table>\n</div>"
     },
     "metadata": {}
    }
   ],
   "source": [
    "#a = pd.DataFrame([[1,2,3]],columns=['a','b','c'],index=['MSFT'])\n",
    "#print(a)\n",
    "\n",
    "#print(y1)\n",
    "x = pd.DataFrame([y1], columns=columns, index=['MSFT'])\n",
    "display(x)"
   ]
  },
  {
   "cell_type": "code",
   "execution_count": 104,
   "metadata": {},
   "outputs": [
    {
     "output_type": "error",
     "ename": "NameError",
     "evalue": "name 'value' is not defined",
     "traceback": [
      "\u001b[1;31m---------------------------------------------------------------------------\u001b[0m",
      "\u001b[1;31mNameError\u001b[0m                                 Traceback (most recent call last)",
      "\u001b[1;32m<ipython-input-104-f6dcb8bf4c68>\u001b[0m in \u001b[0;36m<module>\u001b[1;34m\u001b[0m\n\u001b[0;32m      1\u001b[0m \u001b[0mz\u001b[0m \u001b[1;33m=\u001b[0m \u001b[0mtradeapi\u001b[0m\u001b[1;33m.\u001b[0m\u001b[0mpolygon\u001b[0m\u001b[1;33m.\u001b[0m\u001b[0mrest\u001b[0m\u001b[1;33m.\u001b[0m\u001b[0mFinancialsSort\u001b[0m\u001b[1;33m.\u001b[0m\u001b[0mCalendarDateAsc\u001b[0m\u001b[1;33m\u001b[0m\u001b[1;33m\u001b[0m\u001b[0m\n\u001b[1;32m----> 2\u001b[1;33m \u001b[0mprint\u001b[0m\u001b[1;33m(\u001b[0m\u001b[0mz\u001b[0m\u001b[1;33m[\u001b[0m\u001b[0mvalue\u001b[0m\u001b[1;33m]\u001b[0m\u001b[1;33m)\u001b[0m\u001b[1;33m\u001b[0m\u001b[1;33m\u001b[0m\u001b[0m\n\u001b[0m",
      "\u001b[1;31mNameError\u001b[0m: name 'value' is not defined"
     ]
    }
   ],
   "source": [
    "z = tradeapi.polygon.rest.FinancialsSort.CalendarDateAsc\n",
    "print(z)"
   ]
  },
  {
   "cell_type": "code",
   "execution_count": 36,
   "metadata": {},
   "outputs": [
    {
     "output_type": "stream",
     "name": "stdout",
     "text": [
      "environ({'ALLUSERSPROFILE': 'C:\\\\ProgramData', 'APPDATA': 'C:\\\\Users\\\\anurruti\\\\AppData\\\\Roaming', 'APPLICATION_INSIGHTS_NO_DIAGNOSTIC_CHANNEL': 'true', 'ASL.LOG': 'Destination=file', 'CHROME_CRASHPAD_PIPE_NAME': '\\\\\\\\.\\\\pipe\\\\crashpad_17244_FQUJTDFPIFXBQAHZ', 'COMMONPROGRAMFILES': 'C:\\\\Program Files\\\\Common Files', 'COMMONPROGRAMFILES(X86)': 'C:\\\\Program Files (x86)\\\\Common Files', 'COMMONPROGRAMW6432': 'C:\\\\Program Files\\\\Common Files', 'COMPUTERNAME': 'DESKTOP-RJ8GNQA', 'COMSPEC': 'C:\\\\WINDOWS\\\\system32\\\\cmd.exe', 'DRIVERDATA': 'C:\\\\Windows\\\\System32\\\\Drivers\\\\DriverData', 'ELECTRON_RUN_AS_NODE': '1', 'HOMEDRIVE': 'C:', 'HOMEPATH': '\\\\Users\\\\anurruti', 'JUPYTER_CONFIG_DATA': 'c:\\\\Users\\\\anurruti\\\\.vscode\\\\extensions\\\\ms-toolsai.vscode-ai-remote-0.1.0\\\\jupyterConfigData.json', 'LOCALAPPDATA': 'C:\\\\Users\\\\anurruti\\\\AppData\\\\Local', 'LOGONSERVER': '\\\\\\\\DESKTOP-RJ8GNQA', 'NUMBER_OF_PROCESSORS': '8', 'ONEDRIVE': 'C:\\\\Users\\\\anurruti\\\\OneDrive - Microsoft', 'ONEDRIVECOMMERCIAL': 'C:\\\\Users\\\\anurruti\\\\OneDrive - Microsoft', 'ONEDRIVECONSUMER': 'C:\\\\Users\\\\anurruti\\\\OneDrive', 'ORIGINAL_XDG_CURRENT_DESKTOP': 'undefined', 'OS': 'Windows_NT', 'PATH': 'C:\\\\Program Files\\\\Python39\\\\Scripts\\\\;C:\\\\Program Files\\\\Python39\\\\;C:\\\\WINDOWS\\\\system32;C:\\\\WINDOWS;C:\\\\WINDOWS\\\\System32\\\\Wbem;C:\\\\WINDOWS\\\\System32\\\\WindowsPowerShell\\\\v1.0\\\\;C:\\\\WINDOWS\\\\System32\\\\OpenSSH\\\\;C:\\\\Program Files\\\\Git\\\\cmd;C:\\\\Program Files\\\\MiKTeX\\\\miktex\\\\bin\\\\x64\\\\;C:\\\\Program Files\\\\Pandoc\\\\;C:\\\\Program Files\\\\Docker\\\\Docker\\\\resources\\\\bin;C:\\\\ProgramData\\\\DockerDesktop\\\\version-bin;C:\\\\Users\\\\anurruti\\\\AppData\\\\Local\\\\Microsoft\\\\WindowsApps;C:\\\\Users\\\\anurruti\\\\AppData\\\\Local\\\\Programs\\\\Microsoft VS Code\\\\bin;C:\\\\Users\\\\anurruti\\\\AppData\\\\Roaming\\\\Python\\\\Python39\\\\Scripts;', 'PATHEXT': '.COM;.EXE;.BAT;.CMD;.VBS;.VBE;.JS;.JSE;.WSF;.WSH;.MSC;.PY;.PYW', 'PROCESSOR_ARCHITECTURE': 'AMD64', 'PROCESSOR_IDENTIFIER': 'Intel64 Family 6 Model 142 Stepping 10, GenuineIntel', 'PROCESSOR_LEVEL': '6', 'PROCESSOR_REVISION': '8e0a', 'PROGRAMDATA': 'C:\\\\ProgramData', 'PROGRAMFILES': 'C:\\\\Program Files', 'PROGRAMFILES(X86)': 'C:\\\\Program Files (x86)', 'PROGRAMW6432': 'C:\\\\Program Files', 'PSMODULEPATH': 'C:\\\\Program Files\\\\WindowsPowerShell\\\\Modules;C:\\\\WINDOWS\\\\system32\\\\WindowsPowerShell\\\\v1.0\\\\Modules;C:\\\\Program Files\\\\Microsoft Azure Recovery Services Agent\\\\bin\\\\Modules\\\\;C:\\\\Program Files (x86)\\\\Microsoft Azure Information Protection\\\\Powershell', 'PUBLIC': 'C:\\\\Users\\\\Public', 'PYTHONIOENCODING': 'utf-8', 'PYTHONPATH': 'c:\\\\Users\\\\anurruti\\\\.vscode\\\\extensions\\\\ms-toolsai.jupyter-2021.3.684299474\\\\pythonFiles;c:\\\\Users\\\\anurruti\\\\.vscode\\\\extensions\\\\ms-toolsai.jupyter-2021.3.684299474\\\\pythonFiles\\\\lib\\\\python', 'PYTHONUNBUFFERED': '1', 'SESSIONNAME': 'Console', 'SYSTEMDRIVE': 'C:', 'SYSTEMROOT': 'C:\\\\WINDOWS', 'TEMP': 'C:\\\\Users\\\\anurruti\\\\AppData\\\\Local\\\\Temp', 'TMP': 'C:\\\\Users\\\\anurruti\\\\AppData\\\\Local\\\\Temp', 'UATDATA': 'C:\\\\windows\\\\CCM\\\\UATData\\\\D9F8C395-CAB8-491d-B8AC-179A1FE1BE77', 'USERDNSDOMAIN': 'northamerica.corp.microsoft.com', 'USERDOMAIN': 'NORTHAMERICA', 'USERDOMAIN_ROAMINGPROFILE': 'NORTHAMERICA', 'USERNAME': 'anurruti', 'USERPROFILE': 'C:\\\\Users\\\\anurruti', 'VSCODE_AMD_ENTRYPOINT': 'vs/workbench/services/extensions/node/extensionHostProcess', 'VSCODE_CWD': 'C:\\\\Users\\\\anurruti\\\\AppData\\\\Local\\\\Programs\\\\Microsoft VS Code', 'VSCODE_HANDLES_UNCAUGHT_ERRORS': 'true', 'VSCODE_IPC_HOOK': '\\\\\\\\.\\\\pipe\\\\b124c482dab264ed4a8c8a7ddc59e911-1.54.3-main-sock', 'VSCODE_IPC_HOOK_EXTHOST': '\\\\\\\\.\\\\pipe\\\\vscode-ipc-f807f04c-25cd-4e92-a48e-50c6e4208ea0-sock', 'VSCODE_LOG_NATIVE': 'false', 'VSCODE_LOG_STACK': 'false', 'VSCODE_NLS_CONFIG': '{\"locale\":\"en-us\",\"availableLanguages\":{},\"_languagePackSupport\":true}', 'VSCODE_NODE_CACHED_DATA_DIR': 'C:\\\\Users\\\\anurruti\\\\AppData\\\\Roaming\\\\Code\\\\CachedData\\\\2b9aebd5354a3629c3aba0a5f5df49f43d6689f8', 'VSCODE_PID': '17244', 'VSCODE_PIPE_LOGGING': 'true', 'VSCODE_VERBOSE_LOGGING': 'true', 'WINDIR': 'C:\\\\WINDOWS', '__COMPAT_LAYER': 'DetectorsAppHealth', 'JPY_INTERRUPT_EVENT': '600', 'IPY_INTERRUPT_EVENT': '600', 'JPY_PARENT_PID': '588', 'TERM': 'xterm-color', 'CLICOLOR': '1', 'PAGER': 'cat', 'GIT_PAGER': 'cat', 'MPLBACKEND': 'module://ipykernel.pylab.backend_inline', 'DEBUSSY': '1', 'ANDRES_TEST': '1', 'POLYGON_KEY_ID': 'Z2pGestGKh7_x_G1r8_PAf_i4oVzp3z2Nm_QGB'})\n"
     ]
    }
   ],
   "source": [
    "\n",
    "https://api.polygon.io/v2/reference/financials/%5B'GE'%5D?limit=5&type=Q&sort=reportPeriod&apiKey=Z2pGestGKh7_x_G1r8_PAf_i4oVzp3z2Nm_QGB\n",
    "https://api.polygon.io/v2/reference/financials/AAPL?limit=5&type=Q&sort=reportPeriod&apiKey=*\n",
    "\n",
    "\n",
    "quote = si.get_quote_table(\"aapl\")\n",
    "#print(quote)\n",
    "print(os.environ)"
   ]
  },
  {
   "cell_type": "code",
   "execution_count": 29,
   "metadata": {},
   "outputs": [
    {
     "output_type": "stream",
     "name": "stdout",
     "text": [
      "                    Unnamed: 0 As of Date: 4/6/2021Current 12/31/2020  \\\n0      Market Cap (intraday) 5                       1.88T      1.68T   \n1           Enterprise Value 3                       1.82T      1.61T   \n2                 Trailing P/E                       37.12      35.87   \n3                Forward P/E 1                       30.86      33.00   \n4  PEG Ratio (5 yr expected) 1                        2.29       2.57   \n5            Price/Sales (ttm)                       12.42      11.59   \n6             Price/Book (mrq)                       14.42      13.60   \n7   Enterprise Value/Revenue 3                       11.85      37.42   \n8    Enterprise Value/EBITDA 6                       24.14      74.38   \n\n  9/30/2020 6/30/2020 3/31/2020  \n0     1.59T     1.54T     1.20T  \n1     1.53T     1.48T     1.14T  \n2     36.52     33.92     27.48  \n3     32.15     32.36     25.32  \n4      2.50      2.48      2.77  \n5     11.30     11.30      9.07  \n6     13.45     13.46     10.87  \n7     41.06     38.83     32.54  \n8     78.80     83.86     68.75  \n0    1.88T\n1    1.82T\n2    37.12\n3    30.86\n4     2.29\n5    12.42\n6    14.42\n7    11.85\n8    24.14\nName: As of Date: 4/6/2021Current, dtype: object\n"
     ]
    }
   ],
   "source": [
    "quote = si.get_stats_valuation(\"msft\")\n",
    "print(quote)\n",
    "print(quote.iloc[:,1])"
   ]
  }
 ]
}